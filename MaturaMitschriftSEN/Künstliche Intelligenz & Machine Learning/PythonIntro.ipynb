{
 "metadata": {
  "kernelspec": {
   "language": "python",
   "display_name": "Python 3",
   "name": "python3"
  },
  "language_info": {
   "name": "python",
   "version": "3.7.12",
   "mimetype": "text/x-python",
   "codemirror_mode": {
    "name": "ipython",
    "version": 3
   },
   "pygments_lexer": "ipython3",
   "nbconvert_exporter": "python",
   "file_extension": ".py"
  }
 },
 "nbformat_minor": 4,
 "nbformat": 4,
 "cells": [
  {
   "cell_type": "markdown",
   "source": [
    "# Python Introduction"
   ],
   "metadata": {
    "pycharm": {
     "name": "#%% md\n"
    }
   }
  },
  {
   "cell_type": "code",
   "source": [
    "print(\"Hello world!\");"
   ],
   "metadata": {
    "execution": {
     "iopub.status.busy": "2023-01-27T12:21:51.960358Z",
     "iopub.execute_input": "2023-01-27T12:21:51.961548Z",
     "iopub.status.idle": "2023-01-27T12:21:51.967275Z",
     "shell.execute_reply.started": "2023-01-27T12:21:51.961499Z",
     "shell.execute_reply": "2023-01-27T12:21:51.966116Z"
    },
    "trusted": true,
    "pycharm": {
     "name": "#%%\n"
    }
   },
   "execution_count": 1,
   "outputs": [
    {
     "name": "stdout",
     "output_type": "stream",
     "text": [
      "Hello world!\n"
     ]
    }
   ]
  },
  {
   "cell_type": "markdown",
   "source": [
    "Python uses indentation for blocks, instead of curly braces. Both tabs and spaces are supported, but the standard indentation requires standard Python code to use four spaces. "
   ],
   "metadata": {
    "pycharm": {
     "name": "#%% md\n"
    }
   }
  },
  {
   "cell_type": "code",
   "source": [
    "x = 1\n",
    "if x == 1:\n",
    "    print(\"x is 1\")"
   ],
   "metadata": {
    "execution": {
     "iopub.status.busy": "2023-01-27T12:21:41.615301Z",
     "iopub.execute_input": "2023-01-27T12:21:41.615856Z",
     "iopub.status.idle": "2023-01-27T12:21:41.623049Z",
     "shell.execute_reply.started": "2023-01-27T12:21:41.615811Z",
     "shell.execute_reply": "2023-01-27T12:21:41.621662Z"
    },
    "trusted": true,
    "pycharm": {
     "name": "#%%\n"
    }
   },
   "execution_count": 2,
   "outputs": [
    {
     "name": "stdout",
     "output_type": "stream",
     "text": [
      "x is 1\n"
     ]
    }
   ]
  },
  {
   "cell_type": "markdown",
   "source": [
    "# Variables and Types"
   ],
   "metadata": {
    "pycharm": {
     "name": "#%% md\n"
    }
   }
  },
  {
   "cell_type": "markdown",
   "source": [
    "Python is completely object oriented, and not \"statically typed\". You do not need to declare variables before using them, or declare their type. Every variable in Python is an object.\n",
    "\n",
    "- Numbers\n",
    "-- integers\n",
    "-- floating point\n",
    "-- (complex numbers)\n",
    "- Strings"
   ],
   "metadata": {
    "pycharm": {
     "name": "#%% md\n"
    }
   }
  },
  {
   "cell_type": "code",
   "source": [
    "myfloat = 7.0\n",
    "print(myfloat)\n",
    "myfloat = float(7)\n",
    "print(myfloat)"
   ],
   "metadata": {
    "execution": {
     "iopub.status.busy": "2023-01-27T12:26:34.227587Z",
     "iopub.execute_input": "2023-01-27T12:26:34.228111Z",
     "iopub.status.idle": "2023-01-27T12:26:34.240939Z",
     "shell.execute_reply.started": "2023-01-27T12:26:34.228057Z",
     "shell.execute_reply": "2023-01-27T12:26:34.239943Z"
    },
    "trusted": true,
    "pycharm": {
     "name": "#%%\n"
    }
   },
   "execution_count": 3,
   "outputs": [
    {
     "name": "stdout",
     "output_type": "stream",
     "text": [
      "7.0\n",
      "7.0\n"
     ]
    }
   ]
  },
  {
   "cell_type": "code",
   "source": [
    "mystring = 'hello'\n",
    "print(mystring)\n",
    "mystring = \"hello\"\n",
    "print(mystring)\n",
    "mystring = \"let's play a game\"\n",
    "print(mystring)\n",
    "\n",
    "one = 1\n",
    "two = 2\n",
    "three = one + two\n",
    "print(three)\n",
    "\n",
    "hello = \"hello\"\n",
    "world = \"world\"\n",
    "helloworld = hello + \" \" + world\n",
    "print(helloworld)"
   ],
   "metadata": {
    "execution": {
     "iopub.status.busy": "2023-01-27T12:29:02.222593Z",
     "iopub.execute_input": "2023-01-27T12:29:02.223097Z",
     "iopub.status.idle": "2023-01-27T12:29:02.231950Z",
     "shell.execute_reply.started": "2023-01-27T12:29:02.223047Z",
     "shell.execute_reply": "2023-01-27T12:29:02.230619Z"
    },
    "trusted": true,
    "pycharm": {
     "name": "#%%\n"
    }
   },
   "execution_count": 4,
   "outputs": [
    {
     "name": "stdout",
     "output_type": "stream",
     "text": [
      "hello\n",
      "hello\n",
      "let's play a game\n",
      "3\n",
      "hello world\n"
     ]
    }
   ]
  },
  {
   "cell_type": "code",
   "source": [
    "a, b = 3, 4\n",
    "print(a, b)"
   ],
   "metadata": {
    "execution": {
     "iopub.status.busy": "2023-01-27T12:29:54.592584Z",
     "iopub.execute_input": "2023-01-27T12:29:54.593032Z",
     "iopub.status.idle": "2023-01-27T12:29:54.600825Z",
     "shell.execute_reply.started": "2023-01-27T12:29:54.592999Z",
     "shell.execute_reply": "2023-01-27T12:29:54.599259Z"
    },
    "trusted": true,
    "pycharm": {
     "name": "#%%\n"
    }
   },
   "execution_count": 5,
   "outputs": [
    {
     "name": "stdout",
     "output_type": "stream",
     "text": [
      "3 4\n"
     ]
    }
   ]
  },
  {
   "cell_type": "code",
   "source": [
    "astring = \"Hello World!\"\n",
    "print(len(astring))\n",
    "print(astring.count(\"l\"))\n",
    "print(astring[3:7])\n",
    "print(astring[3:7:2]) # start:stop:step\n",
    "print(astring[::-1])\n",
    "print(astring.upper())\n",
    "print(astring.lower())\n",
    "print(astring.startswith(\"Hello\"))\n",
    "print(astring.split(\" \"))"
   ],
   "metadata": {
    "execution": {
     "iopub.status.busy": "2023-01-27T12:36:47.075738Z",
     "iopub.execute_input": "2023-01-27T12:36:47.076227Z",
     "iopub.status.idle": "2023-01-27T12:36:47.085410Z",
     "shell.execute_reply.started": "2023-01-27T12:36:47.076172Z",
     "shell.execute_reply": "2023-01-27T12:36:47.084170Z"
    },
    "trusted": true,
    "pycharm": {
     "name": "#%%\n"
    }
   },
   "execution_count": 6,
   "outputs": [
    {
     "name": "stdout",
     "output_type": "stream",
     "text": [
      "12\n",
      "3\n",
      "lo W\n",
      "l \n",
      "!dlroW olleH\n",
      "HELLO WORLD!\n",
      "hello world!\n",
      "True\n",
      "['Hello', 'World!']\n"
     ]
    }
   ]
  },
  {
   "cell_type": "markdown",
   "source": [
    "# List\n",
    "Lists are very similar to arrays. They can contain any type of variable, and they can contain as many variables as you wish. Lists can also be iterated over in a very simple manner. Here is an example of how to build a list."
   ],
   "metadata": {
    "pycharm": {
     "name": "#%% md\n"
    }
   }
  },
  {
   "cell_type": "code",
   "source": [
    "list1 = [1, 2, 3]\n",
    "mylist = []\n",
    "mylist.append(1)\n",
    "mylist.append(2)\n",
    "mylist.append(3)\n",
    "\n",
    "print(mylist[0])\n",
    "print(mylist[1])\n",
    "print(mylist[2])\n",
    "\n",
    "for x in mylist:\n",
    "    print(x)"
   ],
   "metadata": {
    "execution": {
     "iopub.status.busy": "2023-01-27T12:39:09.594273Z",
     "iopub.execute_input": "2023-01-27T12:39:09.594743Z",
     "iopub.status.idle": "2023-01-27T12:39:09.602672Z",
     "shell.execute_reply.started": "2023-01-27T12:39:09.594709Z",
     "shell.execute_reply": "2023-01-27T12:39:09.601061Z"
    },
    "trusted": true,
    "pycharm": {
     "name": "#%%\n"
    }
   },
   "execution_count": 7,
   "outputs": [
    {
     "name": "stdout",
     "output_type": "stream",
     "text": [
      "1\n",
      "2\n",
      "3\n",
      "1\n",
      "2\n",
      "3\n"
     ]
    }
   ]
  },
  {
   "cell_type": "code",
   "source": [
    "languages = [\"Python\", \"Swift\", \"C++\"]\n",
    "print(languages[-1])\n",
    "print(languages[-2])\n",
    "print(languages[-3])"
   ],
   "metadata": {
    "execution": {
     "iopub.status.busy": "2023-01-27T12:40:22.680450Z",
     "iopub.execute_input": "2023-01-27T12:40:22.680921Z",
     "iopub.status.idle": "2023-01-27T12:40:22.688139Z",
     "shell.execute_reply.started": "2023-01-27T12:40:22.680885Z",
     "shell.execute_reply": "2023-01-27T12:40:22.686616Z"
    },
    "trusted": true,
    "pycharm": {
     "name": "#%%\n"
    }
   },
   "execution_count": 8,
   "outputs": [
    {
     "name": "stdout",
     "output_type": "stream",
     "text": [
      "C++\n",
      "Swift\n",
      "Python\n"
     ]
    }
   ]
  },
  {
   "cell_type": "markdown",
   "source": [
    "## Slicing a List"
   ],
   "metadata": {
    "pycharm": {
     "name": "#%% md\n"
    }
   }
  },
  {
   "cell_type": "code",
   "source": [
    "my_list = ['p','r','o','g','r','a','m','i','z']\n",
    "print(my_list[2:5])\n",
    "print(my_list[5:])\n",
    "print(my_list[:])\n"
   ],
   "metadata": {
    "execution": {
     "iopub.status.busy": "2023-01-27T12:44:25.784397Z",
     "iopub.execute_input": "2023-01-27T12:44:25.784829Z",
     "iopub.status.idle": "2023-01-27T12:44:25.792856Z",
     "shell.execute_reply.started": "2023-01-27T12:44:25.784796Z",
     "shell.execute_reply": "2023-01-27T12:44:25.791428Z"
    },
    "trusted": true,
    "pycharm": {
     "name": "#%%\n"
    }
   },
   "execution_count": 9,
   "outputs": [
    {
     "name": "stdout",
     "output_type": "stream",
     "text": [
      "['o', 'g', 'r']\n",
      "['a', 'm', 'i', 'z']\n",
      "['p', 'r', 'o', 'g', 'r', 'a', 'm', 'i', 'z']\n"
     ]
    }
   ]
  },
  {
   "cell_type": "code",
   "source": [
    "languages = ['Python', 'Swift', 'C++', 'C', 'Java', 'Rust', 'R']\n",
    "del languages[1]\n",
    "print(languages)\n",
    "\n",
    "languages = ['Python', 'Swift', 'C++', 'C', 'Java', 'Rust', 'R']\n",
    "del languages[-1]\n",
    "print(languages)\n",
    "\n",
    "languages = ['Python', 'Swift', 'C++', 'C', 'Java', 'Rust', 'R']\n",
    "del languages[0:2]\n",
    "print(languages)"
   ],
   "metadata": {
    "execution": {
     "iopub.status.busy": "2023-01-27T12:49:34.864490Z",
     "iopub.execute_input": "2023-01-27T12:49:34.864952Z",
     "iopub.status.idle": "2023-01-27T12:49:34.872768Z",
     "shell.execute_reply.started": "2023-01-27T12:49:34.864913Z",
     "shell.execute_reply": "2023-01-27T12:49:34.871467Z"
    },
    "trusted": true,
    "pycharm": {
     "name": "#%%\n"
    }
   },
   "execution_count": 10,
   "outputs": [
    {
     "name": "stdout",
     "output_type": "stream",
     "text": [
      "['Python', 'C++', 'C', 'Java', 'Rust', 'R']\n",
      "['Python', 'Swift', 'C++', 'C', 'Java', 'Rust']\n",
      "['C++', 'C', 'Java', 'Rust', 'R']\n"
     ]
    }
   ]
  },
  {
   "cell_type": "code",
   "source": [
    "languages = ['Python', 'Swift', 'C++']\n",
    "\n",
    "for language in languages:\n",
    "    print(language)"
   ],
   "metadata": {
    "execution": {
     "iopub.status.busy": "2023-01-27T12:49:52.573031Z",
     "iopub.execute_input": "2023-01-27T12:49:52.573491Z",
     "iopub.status.idle": "2023-01-27T12:49:52.580682Z",
     "shell.execute_reply.started": "2023-01-27T12:49:52.573446Z",
     "shell.execute_reply": "2023-01-27T12:49:52.579031Z"
    },
    "trusted": true,
    "pycharm": {
     "name": "#%%\n"
    }
   },
   "execution_count": 11,
   "outputs": [
    {
     "name": "stdout",
     "output_type": "stream",
     "text": [
      "Python\n",
      "Swift\n",
      "C++\n"
     ]
    }
   ]
  },
  {
   "cell_type": "code",
   "source": [
    "languages = ['Python', 'Swift', 'C++']\n",
    "\n",
    "print('C' in languages)    # False\n",
    "print('Python' in languages)    # True"
   ],
   "metadata": {
    "execution": {
     "iopub.status.busy": "2023-01-27T12:50:42.504382Z",
     "iopub.execute_input": "2023-01-27T12:50:42.504795Z",
     "iopub.status.idle": "2023-01-27T12:50:42.510351Z",
     "shell.execute_reply.started": "2023-01-27T12:50:42.504763Z",
     "shell.execute_reply": "2023-01-27T12:50:42.509483Z"
    },
    "trusted": true,
    "pycharm": {
     "name": "#%%\n"
    }
   },
   "execution_count": 12,
   "outputs": [
    {
     "name": "stdout",
     "output_type": "stream",
     "text": [
      "False\n",
      "True\n"
     ]
    }
   ]
  },
  {
   "cell_type": "markdown",
   "source": [
    "## List Comprehension"
   ],
   "metadata": {
    "pycharm": {
     "name": "#%% md\n"
    }
   }
  },
  {
   "cell_type": "code",
   "source": [
    "numbers = [number * number for number in range(1, 6)]\n",
    "print(numbers)"
   ],
   "metadata": {
    "execution": {
     "iopub.status.busy": "2023-01-27T12:52:09.375680Z",
     "iopub.execute_input": "2023-01-27T12:52:09.376121Z",
     "iopub.status.idle": "2023-01-27T12:52:09.383950Z",
     "shell.execute_reply.started": "2023-01-27T12:52:09.376088Z",
     "shell.execute_reply": "2023-01-27T12:52:09.382427Z"
    },
    "trusted": true,
    "pycharm": {
     "name": "#%%\n"
    }
   },
   "execution_count": 13,
   "outputs": [
    {
     "name": "stdout",
     "output_type": "stream",
     "text": [
      "[1, 4, 9, 16, 25]\n"
     ]
    }
   ]
  },
  {
   "cell_type": "markdown",
   "source": [
    "# Basic Operators"
   ],
   "metadata": {
    "pycharm": {
     "name": "#%% md\n"
    }
   }
  },
  {
   "cell_type": "code",
   "source": [
    "number = 1 + 2 + 3 / 4.0\n",
    "print(number)\n",
    "\n",
    "remainder = 11 % 3\n",
    "print(remainder)\n",
    "\n",
    "squared = 7 ** 2\n",
    "cubed = 2 ** 3\n",
    "print(squared)\n",
    "print(cubed)"
   ],
   "metadata": {
    "execution": {
     "iopub.status.busy": "2023-01-27T12:56:27.829593Z",
     "iopub.execute_input": "2023-01-27T12:56:27.830007Z",
     "iopub.status.idle": "2023-01-27T12:56:27.837941Z",
     "shell.execute_reply.started": "2023-01-27T12:56:27.829972Z",
     "shell.execute_reply": "2023-01-27T12:56:27.836438Z"
    },
    "trusted": true,
    "pycharm": {
     "name": "#%%\n"
    }
   },
   "execution_count": 14,
   "outputs": [
    {
     "name": "stdout",
     "output_type": "stream",
     "text": [
      "3.75\n",
      "2\n",
      "49\n",
      "8\n"
     ]
    }
   ]
  },
  {
   "cell_type": "markdown",
   "source": [
    "## String Operators"
   ],
   "metadata": {
    "pycharm": {
     "name": "#%% md\n"
    }
   }
  },
  {
   "cell_type": "code",
   "source": [
    "helloworld = \"hello \" + \"world\"\n",
    "print(helloworld)\n",
    "\n",
    "hello = \"hello\"\n",
    "print(hello + str(5))\n",
    "\n",
    "print(hello * 10)"
   ],
   "metadata": {
    "execution": {
     "iopub.status.busy": "2023-01-27T12:58:23.745008Z",
     "iopub.execute_input": "2023-01-27T12:58:23.746542Z",
     "iopub.status.idle": "2023-01-27T12:58:23.753961Z",
     "shell.execute_reply.started": "2023-01-27T12:58:23.746479Z",
     "shell.execute_reply": "2023-01-27T12:58:23.752246Z"
    },
    "trusted": true,
    "pycharm": {
     "name": "#%%\n"
    }
   },
   "execution_count": 15,
   "outputs": [
    {
     "name": "stdout",
     "output_type": "stream",
     "text": [
      "hello world\n",
      "hello5\n",
      "hellohellohellohellohellohellohellohellohellohello\n"
     ]
    }
   ]
  },
  {
   "cell_type": "markdown",
   "source": [
    "## List Operators"
   ],
   "metadata": {
    "pycharm": {
     "name": "#%% md\n"
    }
   }
  },
  {
   "cell_type": "code",
   "source": [
    "even_numbers = [2,4,6,8]\n",
    "odd_numbers = [1,3,5,7]\n",
    "\n",
    "print(even_numbers + odd_numbers)\n",
    "\n",
    "print([1,2,3] * 5)"
   ],
   "metadata": {
    "execution": {
     "iopub.status.busy": "2023-01-27T12:59:20.185379Z",
     "iopub.execute_input": "2023-01-27T12:59:20.185792Z",
     "iopub.status.idle": "2023-01-27T12:59:20.193526Z",
     "shell.execute_reply.started": "2023-01-27T12:59:20.185759Z",
     "shell.execute_reply": "2023-01-27T12:59:20.191994Z"
    },
    "trusted": true,
    "pycharm": {
     "name": "#%%\n"
    }
   },
   "execution_count": 16,
   "outputs": [
    {
     "name": "stdout",
     "output_type": "stream",
     "text": [
      "[2, 4, 6, 8, 1, 3, 5, 7]\n",
      "[1, 2, 3, 1, 2, 3, 1, 2, 3, 1, 2, 3, 1, 2, 3]\n"
     ]
    }
   ]
  },
  {
   "cell_type": "markdown",
   "source": [
    "## String Formatting"
   ],
   "metadata": {
    "pycharm": {
     "name": "#%% md\n"
    }
   }
  },
  {
   "cell_type": "code",
   "source": [
    "name = \"John\"\n",
    "age = 23\n",
    "print(\"%s is %d years old.\" % (name, age))"
   ],
   "metadata": {
    "execution": {
     "iopub.status.busy": "2023-01-27T13:00:35.095954Z",
     "iopub.execute_input": "2023-01-27T13:00:35.096459Z",
     "iopub.status.idle": "2023-01-27T13:00:35.103444Z",
     "shell.execute_reply.started": "2023-01-27T13:00:35.096421Z",
     "shell.execute_reply": "2023-01-27T13:00:35.102138Z"
    },
    "trusted": true,
    "pycharm": {
     "name": "#%%\n"
    }
   },
   "execution_count": 17,
   "outputs": [
    {
     "name": "stdout",
     "output_type": "stream",
     "text": [
      "John is 23 years old.\n"
     ]
    }
   ]
  },
  {
   "cell_type": "markdown",
   "source": [
    "# Conditions"
   ],
   "metadata": {
    "pycharm": {
     "name": "#%% md\n"
    }
   }
  },
  {
   "cell_type": "code",
   "source": [
    "x = 2\n",
    "print(x == 2) # prints out True\n",
    "print(x == 3) # prints out False\n",
    "print(x < 3) # prints out True\n",
    "\n",
    "name = \"John\"\n",
    "age = 23\n",
    "if name == \"John\" and age == 23:\n",
    "    print(\"Your name is John, and you are also 23 years old.\")\n",
    "\n",
    "if name == \"John\" or name == \"Rick\":\n",
    "    print(\"Your name is either John or Rick.\")"
   ],
   "metadata": {
    "execution": {
     "iopub.status.busy": "2023-01-27T13:02:43.353891Z",
     "iopub.execute_input": "2023-01-27T13:02:43.354325Z",
     "iopub.status.idle": "2023-01-27T13:02:43.361297Z",
     "shell.execute_reply.started": "2023-01-27T13:02:43.354290Z",
     "shell.execute_reply": "2023-01-27T13:02:43.360009Z"
    },
    "trusted": true,
    "pycharm": {
     "name": "#%%\n"
    }
   },
   "execution_count": 18,
   "outputs": [
    {
     "name": "stdout",
     "output_type": "stream",
     "text": [
      "True\n",
      "False\n",
      "True\n",
      "Your name is John, and you are also 23 years old.\n",
      "Your name is either John or Rick.\n"
     ]
    }
   ]
  },
  {
   "cell_type": "code",
   "source": [
    "name = \"John\"\n",
    "if name in [\"John\", \"Rick\"]:\n",
    "    print(\"Your name is either John or Rick.\")"
   ],
   "metadata": {
    "execution": {
     "iopub.status.busy": "2023-01-27T13:06:00.156305Z",
     "iopub.execute_input": "2023-01-27T13:06:00.156722Z",
     "iopub.status.idle": "2023-01-27T13:06:00.164350Z",
     "shell.execute_reply.started": "2023-01-27T13:06:00.156689Z",
     "shell.execute_reply": "2023-01-27T13:06:00.162643Z"
    },
    "trusted": true,
    "pycharm": {
     "name": "#%%\n"
    }
   },
   "execution_count": 19,
   "outputs": [
    {
     "name": "stdout",
     "output_type": "stream",
     "text": [
      "Your name is either John or Rick.\n"
     ]
    }
   ]
  },
  {
   "cell_type": "code",
   "source": [
    "statement = False\n",
    "another_statement = True\n",
    "if statement is True:\n",
    "    print(\"A\")\n",
    "elif another_statement is True: # else if\n",
    "    print(\"B\")\n",
    "else:\n",
    "    print(\"C\")"
   ],
   "metadata": {
    "execution": {
     "iopub.status.busy": "2023-01-27T13:08:11.300456Z",
     "iopub.execute_input": "2023-01-27T13:08:11.300868Z",
     "iopub.status.idle": "2023-01-27T13:08:11.308949Z",
     "shell.execute_reply.started": "2023-01-27T13:08:11.300835Z",
     "shell.execute_reply": "2023-01-27T13:08:11.306949Z"
    },
    "trusted": true,
    "pycharm": {
     "name": "#%%\n"
    }
   },
   "execution_count": 20,
   "outputs": [
    {
     "name": "stdout",
     "output_type": "stream",
     "text": [
      "B\n"
     ]
    }
   ]
  },
  {
   "cell_type": "code",
   "source": [
    "x = [1,2,3]\n",
    "y = [1,2,3]\n",
    "\n",
    "print (x == y)\n",
    "print (x is y)"
   ],
   "metadata": {
    "execution": {
     "iopub.status.busy": "2023-01-27T13:08:57.905323Z",
     "iopub.execute_input": "2023-01-27T13:08:57.905776Z",
     "iopub.status.idle": "2023-01-27T13:08:57.912524Z",
     "shell.execute_reply.started": "2023-01-27T13:08:57.905740Z",
     "shell.execute_reply": "2023-01-27T13:08:57.911282Z"
    },
    "trusted": true,
    "pycharm": {
     "name": "#%%\n"
    }
   },
   "execution_count": 21,
   "outputs": [
    {
     "name": "stdout",
     "output_type": "stream",
     "text": [
      "True\n",
      "False\n"
     ]
    }
   ]
  },
  {
   "cell_type": "code",
   "source": [
    "print (not False)\n",
    "print ((not False) == False)"
   ],
   "metadata": {
    "execution": {
     "iopub.status.busy": "2023-01-27T13:09:57.334984Z",
     "iopub.execute_input": "2023-01-27T13:09:57.335424Z",
     "iopub.status.idle": "2023-01-27T13:09:57.341712Z",
     "shell.execute_reply.started": "2023-01-27T13:09:57.335388Z",
     "shell.execute_reply": "2023-01-27T13:09:57.340462Z"
    },
    "trusted": true,
    "pycharm": {
     "name": "#%%\n"
    }
   },
   "execution_count": 22,
   "outputs": [
    {
     "name": "stdout",
     "output_type": "stream",
     "text": [
      "True\n",
      "False\n"
     ]
    }
   ]
  },
  {
   "cell_type": "markdown",
   "source": [
    "# Loops"
   ],
   "metadata": {
    "pycharm": {
     "name": "#%% md\n"
    }
   }
  },
  {
   "cell_type": "markdown",
   "source": [
    "## For"
   ],
   "metadata": {
    "pycharm": {
     "name": "#%% md\n"
    }
   }
  },
  {
   "cell_type": "code",
   "source": [
    "primes = [2, 3, 5, 7]\n",
    "# 2 is the oddest prime\n",
    "\n",
    "for prime in primes:\n",
    "    print(prime)\n",
    "    \n",
    "for x in range(5):\n",
    "    print(x)\n",
    "    \n",
    "for x in range(3, 6):\n",
    "    print(x)\n",
    "\n",
    "for x in range(3, 8, 2):\n",
    "    print(x)"
   ],
   "metadata": {
    "execution": {
     "iopub.status.busy": "2023-01-27T13:13:36.458691Z",
     "iopub.execute_input": "2023-01-27T13:13:36.459094Z",
     "iopub.status.idle": "2023-01-27T13:13:36.468788Z",
     "shell.execute_reply.started": "2023-01-27T13:13:36.459064Z",
     "shell.execute_reply": "2023-01-27T13:13:36.466983Z"
    },
    "trusted": true,
    "pycharm": {
     "name": "#%%\n"
    }
   },
   "execution_count": 23,
   "outputs": [
    {
     "name": "stdout",
     "output_type": "stream",
     "text": [
      "2\n",
      "3\n",
      "5\n",
      "7\n",
      "0\n",
      "1\n",
      "2\n",
      "3\n",
      "4\n",
      "3\n",
      "4\n",
      "5\n",
      "3\n",
      "5\n",
      "7\n"
     ]
    }
   ]
  },
  {
   "cell_type": "markdown",
   "source": [
    "## While"
   ],
   "metadata": {
    "pycharm": {
     "name": "#%% md\n"
    }
   }
  },
  {
   "cell_type": "code",
   "source": [
    "count = 0\n",
    "while count < 5:\n",
    "    print(count)\n",
    "    count += 1"
   ],
   "metadata": {
    "execution": {
     "iopub.status.busy": "2023-01-27T13:26:47.612166Z",
     "iopub.execute_input": "2023-01-27T13:26:47.612688Z",
     "iopub.status.idle": "2023-01-27T13:26:47.619513Z",
     "shell.execute_reply.started": "2023-01-27T13:26:47.612646Z",
     "shell.execute_reply": "2023-01-27T13:26:47.618472Z"
    },
    "trusted": true,
    "pycharm": {
     "name": "#%%\n"
    }
   },
   "execution_count": 24,
   "outputs": [
    {
     "name": "stdout",
     "output_type": "stream",
     "text": [
      "0\n",
      "1\n",
      "2\n",
      "3\n",
      "4\n"
     ]
    }
   ]
  },
  {
   "cell_type": "code",
   "source": [
    "count = 0\n",
    "while True:\n",
    "    print(count)\n",
    "    count += 1\n",
    "    if count >= 5:\n",
    "        break\n",
    "\n",
    "# Prints out only odd numbers - 1,3,5,7,9\n",
    "for x in range(10):\n",
    "    # Check if x is even\n",
    "    if x % 2 == 0:\n",
    "        continue\n",
    "    print(x)"
   ],
   "metadata": {
    "execution": {
     "iopub.status.busy": "2023-01-27T13:27:18.476940Z",
     "iopub.execute_input": "2023-01-27T13:27:18.477509Z",
     "iopub.status.idle": "2023-01-27T13:27:18.486067Z",
     "shell.execute_reply.started": "2023-01-27T13:27:18.477469Z",
     "shell.execute_reply": "2023-01-27T13:27:18.484559Z"
    },
    "trusted": true,
    "pycharm": {
     "name": "#%%\n"
    }
   },
   "execution_count": 25,
   "outputs": [
    {
     "name": "stdout",
     "output_type": "stream",
     "text": [
      "0\n",
      "1\n",
      "2\n",
      "3\n",
      "4\n",
      "1\n",
      "3\n",
      "5\n",
      "7\n",
      "9\n"
     ]
    }
   ]
  },
  {
   "cell_type": "markdown",
   "source": [
    "## Else?!\n",
    "Unlike languages like C,CPP.. we can use else for loops. When the loop condition of \"for\" or \"while\" statement fails then code part in \"else\" is executed. If a break statement is executed inside the for loop then the \"else\" part is skipped. Note that the \"else\" part is executed even if there is a continue statement."
   ],
   "metadata": {
    "pycharm": {
     "name": "#%% md\n"
    }
   }
  },
  {
   "cell_type": "code",
   "source": [
    "count=0\n",
    "while(count<5):\n",
    "    print(count)\n",
    "    count +=1\n",
    "else:\n",
    "    print(\"count value reached %d\" %(count))"
   ],
   "metadata": {
    "execution": {
     "iopub.status.busy": "2023-01-27T13:28:42.618388Z",
     "iopub.execute_input": "2023-01-27T13:28:42.618876Z",
     "iopub.status.idle": "2023-01-27T13:28:42.625994Z",
     "shell.execute_reply.started": "2023-01-27T13:28:42.618837Z",
     "shell.execute_reply": "2023-01-27T13:28:42.624536Z"
    },
    "trusted": true,
    "pycharm": {
     "name": "#%%\n"
    }
   },
   "execution_count": 26,
   "outputs": [
    {
     "name": "stdout",
     "output_type": "stream",
     "text": [
      "0\n",
      "1\n",
      "2\n",
      "3\n",
      "4\n",
      "count value reached 5\n"
     ]
    }
   ]
  },
  {
   "cell_type": "markdown",
   "source": [
    "# Functions"
   ],
   "metadata": {
    "pycharm": {
     "name": "#%% md\n"
    }
   }
  },
  {
   "cell_type": "code",
   "source": [
    "def my_function():\n",
    "    print(\"Hello From My Function!\")\n",
    "    \n",
    "def my_function_with_args(username = \"Stefan\", greeting = \"a nice evening\"):\n",
    "    print(\"Hello, %s , From My Function!, I wish you %s\"%(username, greeting))"
   ],
   "metadata": {
    "execution": {
     "iopub.status.busy": "2023-01-27T13:33:46.998154Z",
     "iopub.execute_input": "2023-01-27T13:33:46.998657Z",
     "iopub.status.idle": "2023-01-27T13:33:47.005174Z",
     "shell.execute_reply.started": "2023-01-27T13:33:46.998621Z",
     "shell.execute_reply": "2023-01-27T13:33:47.004082Z"
    },
    "trusted": true,
    "pycharm": {
     "name": "#%%\n"
    }
   },
   "execution_count": 27,
   "outputs": []
  },
  {
   "cell_type": "code",
   "source": [
    "my_function_with_args(\"Karim\", \"a nice day\")\n",
    "my_function_with_args(greeting = \"a nice day\", username = \"Karim\")\n",
    "my_function_with_args(\"Karim\")\n",
    "my_function_with_args()"
   ],
   "metadata": {
    "execution": {
     "iopub.status.busy": "2023-01-27T13:33:48.278741Z",
     "iopub.execute_input": "2023-01-27T13:33:48.279165Z",
     "iopub.status.idle": "2023-01-27T13:33:48.286802Z",
     "shell.execute_reply.started": "2023-01-27T13:33:48.279131Z",
     "shell.execute_reply": "2023-01-27T13:33:48.285515Z"
    },
    "trusted": true,
    "pycharm": {
     "name": "#%%\n"
    }
   },
   "execution_count": 28,
   "outputs": [
    {
     "name": "stdout",
     "output_type": "stream",
     "text": [
      "Hello, Karim , From My Function!, I wish you a nice day\n",
      "Hello, Karim , From My Function!, I wish you a nice day\n",
      "Hello, Karim , From My Function!, I wish you a nice evening\n",
      "Hello, Stefan , From My Function!, I wish you a nice evening\n"
     ]
    }
   ]
  },
  {
   "cell_type": "markdown",
   "source": [
    "## Lambdas"
   ],
   "metadata": {
    "pycharm": {
     "name": "#%% md\n"
    }
   }
  },
  {
   "cell_type": "code",
   "source": [
    "greet = lambda : print(\"Hello World\")\n",
    "\n",
    "greet()\n",
    "\n",
    "greet_user = lambda name : print('Hey there,', name)\n",
    "greet_user(\"Felix\")"
   ],
   "metadata": {
    "execution": {
     "iopub.status.busy": "2023-01-27T13:35:21.277836Z",
     "iopub.execute_input": "2023-01-27T13:35:21.278279Z",
     "iopub.status.idle": "2023-01-27T13:35:21.283825Z",
     "shell.execute_reply.started": "2023-01-27T13:35:21.278244Z",
     "shell.execute_reply": "2023-01-27T13:35:21.282613Z"
    },
    "trusted": true,
    "pycharm": {
     "name": "#%%\n"
    }
   },
   "execution_count": 29,
   "outputs": [
    {
     "name": "stdout",
     "output_type": "stream",
     "text": [
      "Hello World\n",
      "Hey there, Felix\n"
     ]
    }
   ]
  },
  {
   "cell_type": "markdown",
   "source": [
    "# Global and Local Variables"
   ],
   "metadata": {
    "pycharm": {
     "name": "#%% md\n"
    }
   }
  },
  {
   "cell_type": "code",
   "source": [
    "def greet():\n",
    "    message = \"Hello\"\n",
    "    print(\"From Function: \", message)\n",
    "    \n",
    "greet()\n",
    "print(message)"
   ],
   "metadata": {
    "execution": {
     "iopub.status.busy": "2023-01-27T13:40:14.406484Z",
     "iopub.execute_input": "2023-01-27T13:40:14.406903Z",
     "iopub.status.idle": "2023-01-27T13:40:14.424901Z",
     "shell.execute_reply.started": "2023-01-27T13:40:14.406868Z",
     "shell.execute_reply": "2023-01-27T13:40:14.423544Z"
    },
    "trusted": true,
    "pycharm": {
     "name": "#%%\n"
    }
   },
   "execution_count": 30,
   "outputs": [
    {
     "name": "stdout",
     "output_type": "stream",
     "text": [
      "From Function:  Hello\n"
     ]
    },
    {
     "ename": "NameError",
     "evalue": "name 'message' is not defined",
     "output_type": "error",
     "traceback": [
      "\u001B[1;31m---------------------------------------------------------------------------\u001B[0m",
      "\u001B[1;31mNameError\u001B[0m                                 Traceback (most recent call last)",
      "Cell \u001B[1;32mIn[30], line 6\u001B[0m\n\u001B[0;32m      3\u001B[0m     \u001B[38;5;28mprint\u001B[39m(\u001B[38;5;124m\"\u001B[39m\u001B[38;5;124mFrom Function: \u001B[39m\u001B[38;5;124m\"\u001B[39m, message)\n\u001B[0;32m      5\u001B[0m greet()\n\u001B[1;32m----> 6\u001B[0m \u001B[38;5;28mprint\u001B[39m(\u001B[43mmessage\u001B[49m)\n",
      "\u001B[1;31mNameError\u001B[0m: name 'message' is not defined"
     ]
    }
   ]
  },
  {
   "cell_type": "code",
   "source": [
    "message_global = \"Hello\"\n",
    "\n",
    "def greet2():\n",
    "    print(\"From Function: \", message_global)\n",
    "    \n",
    "greet()\n",
    "print(message_global)"
   ],
   "metadata": {
    "execution": {
     "iopub.status.busy": "2023-01-27T13:40:17.758225Z",
     "iopub.execute_input": "2023-01-27T13:40:17.758648Z",
     "iopub.status.idle": "2023-01-27T13:40:17.766678Z",
     "shell.execute_reply.started": "2023-01-27T13:40:17.758615Z",
     "shell.execute_reply": "2023-01-27T13:40:17.764840Z"
    },
    "trusted": true,
    "pycharm": {
     "name": "#%%\n"
    }
   },
   "execution_count": null,
   "outputs": []
  },
  {
   "cell_type": "code",
   "source": [
    "c = 1\n",
    "\n",
    "def add():\n",
    "    print(c)\n",
    "    c = c + 1\n",
    "    \n",
    "add()\n",
    "add()\n",
    "add()"
   ],
   "metadata": {
    "execution": {
     "iopub.status.busy": "2023-01-27T13:41:00.777752Z",
     "iopub.execute_input": "2023-01-27T13:41:00.778234Z",
     "iopub.status.idle": "2023-01-27T13:41:00.809825Z",
     "shell.execute_reply.started": "2023-01-27T13:41:00.778175Z",
     "shell.execute_reply": "2023-01-27T13:41:00.807972Z"
    },
    "trusted": true,
    "pycharm": {
     "name": "#%%\n"
    }
   },
   "execution_count": null,
   "outputs": []
  },
  {
   "cell_type": "code",
   "source": [
    "c = 1\n",
    "\n",
    "def add():\n",
    "    global c\n",
    "    print(c)\n",
    "    c = c + 1\n",
    "    \n",
    "add()\n",
    "add()\n",
    "add()"
   ],
   "metadata": {
    "execution": {
     "iopub.status.busy": "2023-01-27T13:41:41.623605Z",
     "iopub.execute_input": "2023-01-27T13:41:41.624017Z",
     "iopub.status.idle": "2023-01-27T13:41:41.632078Z",
     "shell.execute_reply.started": "2023-01-27T13:41:41.623983Z",
     "shell.execute_reply": "2023-01-27T13:41:41.630239Z"
    },
    "trusted": true,
    "pycharm": {
     "name": "#%%\n"
    }
   },
   "execution_count": null,
   "outputs": []
  },
  {
   "cell_type": "markdown",
   "source": [
    "# Classes and Objects"
   ],
   "metadata": {
    "pycharm": {
     "name": "#%% md\n"
    }
   }
  },
  {
   "cell_type": "code",
   "source": [
    "class MyClass:\n",
    "    variable = \"blah\"\n",
    "    \n",
    "    def function(self):\n",
    "        print(self.variable) #vergl. this.variable in java\n",
    "        print(\"Hello from MyClass:Function\")\n",
    "\n",
    "myobjectx = MyClass()\n",
    "print(myobjectx.variable)\n",
    "print(myobjectx.function())"
   ],
   "metadata": {
    "execution": {
     "iopub.status.busy": "2023-01-27T14:03:15.021072Z",
     "iopub.execute_input": "2023-01-27T14:03:15.021510Z",
     "iopub.status.idle": "2023-01-27T14:03:15.029414Z",
     "shell.execute_reply.started": "2023-01-27T14:03:15.021475Z",
     "shell.execute_reply": "2023-01-27T14:03:15.027778Z"
    },
    "trusted": true,
    "pycharm": {
     "name": "#%%\n"
    }
   },
   "execution_count": null,
   "outputs": []
  },
  {
   "cell_type": "code",
   "source": [
    "class Numberholder:\n",
    "\n",
    "    def __init__(self, number): # constructor\n",
    "        self.number = number\n",
    "        \n",
    "    def getNumber(self):\n",
    "        return self.number\n",
    "\n",
    "myobjectx = Numberholder(7)\n",
    "print(myobjectx.getNumber())\n",
    "\n",
    "print(myobjectx.number)\n"
   ],
   "metadata": {
    "execution": {
     "iopub.status.busy": "2023-01-27T14:13:22.772427Z",
     "iopub.execute_input": "2023-01-27T14:13:22.772886Z",
     "iopub.status.idle": "2023-01-27T14:13:22.781720Z",
     "shell.execute_reply.started": "2023-01-27T14:13:22.772852Z",
     "shell.execute_reply": "2023-01-27T14:13:22.780249Z"
    },
    "trusted": true,
    "pycharm": {
     "name": "#%%\n"
    }
   },
   "execution_count": null,
   "outputs": []
  },
  {
   "cell_type": "code",
   "source": [
    "class Animal:\n",
    "    def eat(self):\n",
    "        print(\"I can eat!\")\n",
    "    \n",
    "    def sleep(self):\n",
    "        print(\"I can sleep!\")\n",
    "\n",
    "class Dog(Animal): # extends\n",
    "    \n",
    "    def eat(self):\n",
    "        super().eat()\n",
    "        print(\"Dog is eating!\")\n",
    "        \n",
    "    def bark(self):\n",
    "        print(\"I can bark!\")\n",
    "\n",
    "dog1 = Dog()\n",
    "dog1.eat()\n",
    "dog1.sleep()\n",
    "dog1.bark()"
   ],
   "metadata": {
    "execution": {
     "iopub.status.busy": "2023-01-27T14:22:52.246100Z",
     "iopub.execute_input": "2023-01-27T14:22:52.246910Z",
     "iopub.status.idle": "2023-01-27T14:22:52.254879Z",
     "shell.execute_reply.started": "2023-01-27T14:22:52.246864Z",
     "shell.execute_reply": "2023-01-27T14:22:52.253474Z"
    },
    "trusted": true,
    "pycharm": {
     "name": "#%%\n"
    }
   },
   "execution_count": null,
   "outputs": []
  },
  {
   "cell_type": "markdown",
   "source": [
    "## Private"
   ],
   "metadata": {
    "pycharm": {
     "name": "#%% md\n"
    }
   }
  },
  {
   "cell_type": "code",
   "source": [
    "class Computer:\n",
    "\n",
    "    def __init__(self):\n",
    "        self.__maxprice = 900\n",
    "\n",
    "    def sell(self):\n",
    "        print(\"Selling Price: {}\".format(self.__maxprice))\n",
    "\n",
    "    def setMaxPrice(self, price):\n",
    "        self.__maxprice = price\n",
    "\n",
    "c = Computer()\n",
    "c.sell()\n",
    "\n",
    "# change the price\n",
    "c.__maxprice = 1000\n",
    "c.sell()\n",
    "\n",
    "# using setter function\n",
    "c.setMaxPrice(1000)\n",
    "c.sell()"
   ],
   "metadata": {
    "execution": {
     "iopub.status.busy": "2023-01-27T14:26:55.846432Z",
     "iopub.execute_input": "2023-01-27T14:26:55.846914Z",
     "iopub.status.idle": "2023-01-27T14:26:55.856110Z",
     "shell.execute_reply.started": "2023-01-27T14:26:55.846878Z",
     "shell.execute_reply": "2023-01-27T14:26:55.854977Z"
    },
    "trusted": true,
    "pycharm": {
     "name": "#%%\n"
    }
   },
   "execution_count": null,
   "outputs": []
  },
  {
   "cell_type": "markdown",
   "source": [
    "Here, we have tried to modify the value of __maxprice outside of the class. However, since __maxprice is a private variable, this modification is not seen on the output.\n",
    "\n",
    "As shown, to change the value, we have to use a setter function i.e setMaxPrice() which takes price as a parameter."
   ],
   "metadata": {
    "pycharm": {
     "name": "#%% md\n"
    }
   }
  },
  {
   "cell_type": "code",
   "source": [],
   "metadata": {
    "pycharm": {
     "name": "#%%\n"
    }
   },
   "execution_count": null,
   "outputs": []
  },
  {
   "cell_type": "markdown",
   "source": [
    "## Polymorphism"
   ],
   "metadata": {
    "pycharm": {
     "name": "#%% md\n"
    }
   }
  },
  {
   "cell_type": "code",
   "source": [
    "class Polygon:\n",
    "    # method to render a shape\n",
    "    def render(self):\n",
    "        print(\"Rendering Polygon...\")\n",
    "\n",
    "class Square(Polygon):\n",
    "    # renders Square\n",
    "    def render(self):\n",
    "        print(\"Rendering Square...\")\n",
    "\n",
    "class Circle(Polygon):\n",
    "    # renders circle\n",
    "    def render(self):\n",
    "        print(\"Rendering Circle...\")\n",
    "    \n",
    "# create an object of Square\n",
    "s1 = Square()\n",
    "s1.render()\n",
    "\n",
    "# create an object of Circle\n",
    "c1 = Circle()\n",
    "c1.render()"
   ],
   "metadata": {
    "pycharm": {
     "name": "#%%\n"
    }
   },
   "execution_count": null,
   "outputs": []
  },
  {
   "cell_type": "markdown",
   "source": [
    "## Multiple Inheritance\n",
    "\n",
    "Method Resolution specifies that methods should be inherited from the leftmost superclass first, so info() of SuperClass1 is called rather than that of SuperClass2."
   ],
   "metadata": {
    "pycharm": {
     "name": "#%% md\n"
    }
   }
  },
  {
   "cell_type": "code",
   "source": [
    "class SuperClass1:\n",
    "    def info(self):\n",
    "        print(\"Super Class 1 method called\")\n",
    "\n",
    "class SuperClass2:\n",
    "    def info(self):\n",
    "        print(\"Super Class 2 method called\")\n",
    "\n",
    "class Derived(SuperClass1, SuperClass2):\n",
    "    pass\n",
    "\n",
    "d1 = Derived()\n",
    "d1.info()  \n",
    "\n",
    "# Output: \"Super Class 1 method called\""
   ],
   "metadata": {
    "pycharm": {
     "name": "#%%\n"
    }
   },
   "execution_count": null,
   "outputs": []
  },
  {
   "cell_type": "markdown",
   "source": [
    "## Operator Overloading\n",
    "\n",
    "Function\tDescription\n",
    "- __init__()\tinitialize the attributes of the object\n",
    "- __str__()\treturns a string representation of the object\n",
    "- __len__()\treturns the length of the object\n",
    "- __add__()\tadds two objects\n",
    "- __call__()\tcall objects of the class like a normal function\n",
    "\n",
    "Operator\tExpression\tInternally\n",
    "- Addition\tp1 + p2\tp1.__add__(p2)\n",
    "- Subtraction\tp1 - p2\tp1.__sub__(p2)\n",
    "- Multiplication\tp1 * p2\tp1.__mul__(p2)\n",
    "- Power\tp1 ** p2\tp1.__pow__(p2)\n",
    "- Division\tp1 / p2\tp1.__truediv__(p2)\n",
    "- Floor Division\tp1 // p2\tp1.__floordiv__(p2)\n",
    "- Remainder (modulo)\tp1 % p2\tp1.__mod__(p2)\n",
    "- Bitwise Left Shift\tp1 << p2\tp1.__lshift__(p2)\n",
    "- Bitwise Right Shift\tp1 >> p2\tp1.__rshift__(p2)\n",
    "- Bitwise AND\tp1 & p2\tp1.__and__(p2)\n",
    "- Bitwise OR\tp1 | p2\tp1.__or__(p2)\n",
    "- Bitwise XOR\tp1 ^ p2\tp1.__xor__(p2)\n",
    "- Bitwise NOT\t~p1\tp1.__invert__()\n",
    "\n",
    "\n",
    "\n",
    "Operator\tExpression\tInternally\n",
    "- Less than\tp1 < p2\tp1.__lt__(p2)\n",
    "- Less than or equal to\tp1 <= p2\tp1.__le__(p2)\n",
    "- Equal to\tp1 == p2\tp1.__eq__(p2)\n",
    "- Not equal to\tp1 != p2\tp1.__ne__(p2)\n",
    "- Greater than\tp1 > p2\tp1.__gt__(p2)\n",
    "- Greater than or equal to\tp1 >= p2\tp1.__ge__(p2)"
   ],
   "metadata": {
    "pycharm": {
     "name": "#%% md\n"
    }
   }
  },
  {
   "cell_type": "code",
   "source": [
    "class Point:\n",
    "    def __init__(self, x=0, y=0):\n",
    "        self.x = x\n",
    "        self.y = y\n",
    "\n",
    "    def __str__(self):\n",
    "        return \"({0},{1})\".format(self.x, self.y)\n",
    "\n",
    "    def __add__(self, other):\n",
    "        x = self.x + other.x\n",
    "        y = self.y + other.y\n",
    "        return Point(x, y)\n",
    "\n",
    "\n",
    "p1 = Point(1, 2)\n",
    "p2 = Point(2, 3)\n",
    "\n",
    "print(str(p1))\n",
    "\n",
    "print(p1+p2)"
   ],
   "metadata": {
    "execution": {
     "iopub.status.busy": "2023-02-10T12:32:42.210752Z",
     "iopub.execute_input": "2023-02-10T12:32:42.211168Z",
     "iopub.status.idle": "2023-02-10T12:32:42.224319Z",
     "shell.execute_reply.started": "2023-02-10T12:32:42.211136Z",
     "shell.execute_reply": "2023-02-10T12:32:42.223017Z"
    },
    "trusted": true,
    "pycharm": {
     "name": "#%%\n"
    }
   },
   "execution_count": null,
   "outputs": []
  },
  {
   "cell_type": "markdown",
   "source": [
    "## Iterator"
   ],
   "metadata": {
    "pycharm": {
     "name": "#%% md\n"
    }
   }
  },
  {
   "cell_type": "code",
   "source": [
    "class PowTwo:\n",
    "    \"\"\"Class to implement an iterator\n",
    "    of powers of two\"\"\"\n",
    "\n",
    "    def __init__(self, max=0):\n",
    "        self.max = max\n",
    "\n",
    "    def __iter__(self):\n",
    "        self.n = 0\n",
    "        return self\n",
    "\n",
    "    def __next__(self):\n",
    "        if self.n <= self.max:\n",
    "            result = 2 ** self.n\n",
    "            self.n += 1\n",
    "            return result\n",
    "        else:\n",
    "            raise StopIteration\n",
    "\n",
    "\n",
    "# create an object\n",
    "numbers = PowTwo(3)\n",
    "\n",
    "for i in numbers:\n",
    "    print(i)\n",
    "\n",
    "# create an iterable from the object\n",
    "i = iter(numbers)\n",
    "\n",
    "# Using next to get to the next iterator element\n",
    "print(next(i)) # prints 1\n",
    "print(next(i)) # prints 2\n",
    "print(next(i)) # prints 4\n",
    "print(next(i)) # prints 8\n",
    "print(next(i)) # raises StopIteration exception"
   ],
   "metadata": {
    "execution": {
     "iopub.status.busy": "2023-02-10T12:35:26.281317Z",
     "iopub.execute_input": "2023-02-10T12:35:26.281928Z",
     "iopub.status.idle": "2023-02-10T12:35:26.311957Z",
     "shell.execute_reply.started": "2023-02-10T12:35:26.281879Z",
     "shell.execute_reply": "2023-02-10T12:35:26.310568Z"
    },
    "trusted": true,
    "pycharm": {
     "name": "#%%\n"
    }
   },
   "execution_count": null,
   "outputs": []
  },
  {
   "cell_type": "markdown",
   "source": [
    "# Dictionary\n",
    "\n",
    "vgl. HashMap\n",
    "A dictionary is a data type similar to arrays, but works with keys and values instead of indexes. Each value stored in a dictionary can be accessed using a key, which is any type of object (a string, a number, a list, etc.) instead of using its index to address it."
   ],
   "metadata": {
    "pycharm": {
     "name": "#%% md\n"
    }
   }
  },
  {
   "cell_type": "code",
   "source": [
    "phonebook = {}\n",
    "phonebook[\"John\"] = 938477566\n",
    "phonebook[\"Jack\"] = 938377264\n",
    "phonebook[\"Jill\"] = 947662781\n",
    "print(phonebook)"
   ],
   "metadata": {
    "execution": {
     "iopub.status.busy": "2023-02-10T12:37:15.675761Z",
     "iopub.execute_input": "2023-02-10T12:37:15.676676Z",
     "iopub.status.idle": "2023-02-10T12:37:15.683288Z",
     "shell.execute_reply.started": "2023-02-10T12:37:15.676634Z",
     "shell.execute_reply": "2023-02-10T12:37:15.682056Z"
    },
    "trusted": true,
    "pycharm": {
     "name": "#%%\n"
    }
   },
   "execution_count": null,
   "outputs": []
  },
  {
   "cell_type": "markdown",
   "source": [
    "# NumPy\n",
    "numpy arrays are great alternatives to Python Lists. Some of the key advantages of Numpy arrays are that they are fast, easy to work with, and give users the opportunity to perform calculations across entire arrays."
   ],
   "metadata": {
    "pycharm": {
     "name": "#%% md\n"
    }
   }
  },
  {
   "cell_type": "code",
   "source": [
    "import numpy as np\n",
    "\n",
    "arr = np.array([1,2,3,4,5])\n",
    "print(arr)"
   ],
   "metadata": {
    "execution": {
     "iopub.status.busy": "2023-02-10T12:40:24.547070Z",
     "iopub.execute_input": "2023-02-10T12:40:24.547457Z",
     "iopub.status.idle": "2023-02-10T12:40:24.555633Z",
     "shell.execute_reply.started": "2023-02-10T12:40:24.547425Z",
     "shell.execute_reply": "2023-02-10T12:40:24.554466Z"
    },
    "trusted": true,
    "pycharm": {
     "name": "#%%\n"
    }
   },
   "execution_count": 31,
   "outputs": [
    {
     "name": "stdout",
     "output_type": "stream",
     "text": [
      "[1 2 3 4 5]\n"
     ]
    }
   ]
  },
  {
   "cell_type": "code",
   "source": [
    "arr = np.array([[1,2,3], [4,5,6]])\n",
    "print(arr)"
   ],
   "metadata": {
    "execution": {
     "iopub.status.busy": "2023-02-10T12:41:24.887681Z",
     "iopub.execute_input": "2023-02-10T12:41:24.888117Z",
     "iopub.status.idle": "2023-02-10T12:41:24.894212Z",
     "shell.execute_reply.started": "2023-02-10T12:41:24.888082Z",
     "shell.execute_reply": "2023-02-10T12:41:24.893355Z"
    },
    "trusted": true,
    "pycharm": {
     "name": "#%%\n"
    }
   },
   "execution_count": 32,
   "outputs": [
    {
     "name": "stdout",
     "output_type": "stream",
     "text": [
      "[[1 2 3]\n",
      " [4 5 6]]\n"
     ]
    }
   ]
  },
  {
   "cell_type": "code",
   "source": [
    "arr = np.array([[1,2,3], [4,5,6], [7,8,9]])\n",
    "print(arr)"
   ],
   "metadata": {
    "execution": {
     "iopub.status.busy": "2023-02-10T12:42:01.199411Z",
     "iopub.execute_input": "2023-02-10T12:42:01.199841Z",
     "iopub.status.idle": "2023-02-10T12:42:01.206501Z",
     "shell.execute_reply.started": "2023-02-10T12:42:01.199806Z",
     "shell.execute_reply": "2023-02-10T12:42:01.205201Z"
    },
    "trusted": true,
    "pycharm": {
     "name": "#%%\n"
    }
   },
   "execution_count": 33,
   "outputs": [
    {
     "name": "stdout",
     "output_type": "stream",
     "text": [
      "[[1 2 3]\n",
      " [4 5 6]\n",
      " [7 8 9]]\n"
     ]
    }
   ]
  },
  {
   "cell_type": "code",
   "source": [
    "a = np.array(42)\n",
    "print(a.ndim)\n",
    "b = np.array([[1,2,3], [4,5,6], [7,8,9]])\n",
    "print(b.ndim)"
   ],
   "metadata": {
    "execution": {
     "iopub.status.busy": "2023-02-10T12:43:27.015568Z",
     "iopub.execute_input": "2023-02-10T12:43:27.015949Z",
     "iopub.status.idle": "2023-02-10T12:43:27.022689Z",
     "shell.execute_reply.started": "2023-02-10T12:43:27.015919Z",
     "shell.execute_reply": "2023-02-10T12:43:27.021661Z"
    },
    "trusted": true,
    "pycharm": {
     "name": "#%%\n"
    }
   },
   "execution_count": 34,
   "outputs": [
    {
     "name": "stdout",
     "output_type": "stream",
     "text": [
      "0\n",
      "2\n"
     ]
    }
   ]
  },
  {
   "cell_type": "code",
   "source": [
    "arr = np.array([1,2,3,4])\n",
    "print(arr[2] + arr[3])\n",
    "arr = np.array([[1,2,3], [4,5,6], [7,8,9]])\n",
    "print(arr[1, 2])"
   ],
   "metadata": {
    "execution": {
     "iopub.status.busy": "2023-02-10T12:44:27.174623Z",
     "iopub.execute_input": "2023-02-10T12:44:27.175067Z",
     "iopub.status.idle": "2023-02-10T12:44:27.182390Z",
     "shell.execute_reply.started": "2023-02-10T12:44:27.175031Z",
     "shell.execute_reply": "2023-02-10T12:44:27.181155Z"
    },
    "trusted": true,
    "pycharm": {
     "name": "#%%\n"
    }
   },
   "execution_count": 35,
   "outputs": [
    {
     "name": "stdout",
     "output_type": "stream",
     "text": [
      "7\n",
      "6\n"
     ]
    }
   ]
  },
  {
   "cell_type": "markdown",
   "source": [
    "## Slicing"
   ],
   "metadata": {
    "pycharm": {
     "name": "#%% md\n"
    }
   }
  },
  {
   "cell_type": "code",
   "source": [
    "arr = np.array([1,2,3,4,5,6,7])\n",
    "print(arr[1:5])\n",
    "print(arr[2:])"
   ],
   "metadata": {
    "execution": {
     "iopub.status.busy": "2023-02-10T12:45:56.999009Z",
     "iopub.execute_input": "2023-02-10T12:45:56.999452Z",
     "iopub.status.idle": "2023-02-10T12:45:57.007241Z",
     "shell.execute_reply.started": "2023-02-10T12:45:56.999417Z",
     "shell.execute_reply": "2023-02-10T12:45:57.005835Z"
    },
    "trusted": true,
    "pycharm": {
     "name": "#%%\n"
    }
   },
   "execution_count": 36,
   "outputs": [
    {
     "name": "stdout",
     "output_type": "stream",
     "text": [
      "[2 3 4 5]\n",
      "[3 4 5 6 7]\n"
     ]
    }
   ]
  },
  {
   "cell_type": "code",
   "source": [
    "arr = np.array([[1,2,3,4,5],[6,7,8,9,10]])\n",
    "print(arr[0:2, 2])\n",
    "print(arr[1, 1:4])"
   ],
   "metadata": {
    "execution": {
     "iopub.status.busy": "2023-02-10T12:47:35.488285Z",
     "iopub.execute_input": "2023-02-10T12:47:35.488730Z",
     "iopub.status.idle": "2023-02-10T12:47:35.496853Z",
     "shell.execute_reply.started": "2023-02-10T12:47:35.488693Z",
     "shell.execute_reply": "2023-02-10T12:47:35.495183Z"
    },
    "trusted": true,
    "pycharm": {
     "name": "#%%\n"
    }
   },
   "execution_count": 37,
   "outputs": [
    {
     "name": "stdout",
     "output_type": "stream",
     "text": [
      "[3 8]\n",
      "[7 8 9]\n"
     ]
    }
   ]
  },
  {
   "cell_type": "markdown",
   "source": [
    "## Copy vs. Views"
   ],
   "metadata": {
    "pycharm": {
     "name": "#%% md\n"
    }
   }
  },
  {
   "cell_type": "code",
   "source": [
    "arr = np.array([1,2,3,4,5])\n",
    "x = arr.copy()\n",
    "arr[0] = 42\n",
    "print(arr)\n",
    "print(x)"
   ],
   "metadata": {
    "execution": {
     "iopub.status.busy": "2023-02-10T12:48:54.976445Z",
     "iopub.execute_input": "2023-02-10T12:48:54.976866Z",
     "iopub.status.idle": "2023-02-10T12:48:54.983962Z",
     "shell.execute_reply.started": "2023-02-10T12:48:54.976835Z",
     "shell.execute_reply": "2023-02-10T12:48:54.982744Z"
    },
    "trusted": true,
    "pycharm": {
     "name": "#%%\n"
    }
   },
   "execution_count": 38,
   "outputs": [
    {
     "name": "stdout",
     "output_type": "stream",
     "text": [
      "[42  2  3  4  5]\n",
      "[1 2 3 4 5]\n"
     ]
    }
   ]
  },
  {
   "cell_type": "code",
   "source": [
    "arr = np.array([1,2,3,4,5])\n",
    "x = arr.view()\n",
    "arr[0] = 42\n",
    "x[2] = 13\n",
    "print(arr)\n",
    "print(x)"
   ],
   "metadata": {
    "execution": {
     "iopub.status.busy": "2023-02-10T12:50:09.494913Z",
     "iopub.execute_input": "2023-02-10T12:50:09.495368Z",
     "iopub.status.idle": "2023-02-10T12:50:09.503146Z",
     "shell.execute_reply.started": "2023-02-10T12:50:09.495332Z",
     "shell.execute_reply": "2023-02-10T12:50:09.502072Z"
    },
    "trusted": true,
    "pycharm": {
     "name": "#%%\n"
    }
   },
   "execution_count": 39,
   "outputs": [
    {
     "name": "stdout",
     "output_type": "stream",
     "text": [
      "[42  2 13  4  5]\n",
      "[42  2 13  4  5]\n"
     ]
    }
   ]
  },
  {
   "cell_type": "markdown",
   "source": [
    "## Shape"
   ],
   "metadata": {
    "pycharm": {
     "name": "#%% md\n"
    }
   }
  },
  {
   "cell_type": "code",
   "source": [
    "arr = np.array([[1,2,3,4], [5,6,7,8]])\n",
    "print(arr.shape)"
   ],
   "metadata": {
    "execution": {
     "iopub.status.busy": "2023-02-10T12:51:32.512930Z",
     "iopub.execute_input": "2023-02-10T12:51:32.513351Z",
     "iopub.status.idle": "2023-02-10T12:51:32.520448Z",
     "shell.execute_reply.started": "2023-02-10T12:51:32.513317Z",
     "shell.execute_reply": "2023-02-10T12:51:32.518932Z"
    },
    "trusted": true,
    "pycharm": {
     "name": "#%%\n"
    }
   },
   "execution_count": 40,
   "outputs": [
    {
     "name": "stdout",
     "output_type": "stream",
     "text": [
      "(2, 4)\n"
     ]
    }
   ]
  },
  {
   "cell_type": "code",
   "source": [
    "arr = np.array([1,2,3,4,5,6,7,8,9,10,11,12])\n",
    "newarr = arr.reshape(4,3)\n",
    "print(newarr)"
   ],
   "metadata": {
    "execution": {
     "iopub.status.busy": "2023-02-10T12:52:55.082451Z",
     "iopub.execute_input": "2023-02-10T12:52:55.082909Z",
     "iopub.status.idle": "2023-02-10T12:52:55.090292Z",
     "shell.execute_reply.started": "2023-02-10T12:52:55.082873Z",
     "shell.execute_reply": "2023-02-10T12:52:55.089358Z"
    },
    "trusted": true,
    "pycharm": {
     "name": "#%%\n"
    }
   },
   "execution_count": 41,
   "outputs": [
    {
     "name": "stdout",
     "output_type": "stream",
     "text": [
      "[[ 1  2  3]\n",
      " [ 4  5  6]\n",
      " [ 7  8  9]\n",
      " [10 11 12]]\n"
     ]
    }
   ]
  },
  {
   "cell_type": "code",
   "source": [
    "arr = np.array([1,2,3,4,5,6,7,8,9,10,11,12])\n",
    "newarr = arr.reshape(2,3,2)\n",
    "print(newarr)"
   ],
   "metadata": {
    "execution": {
     "iopub.status.busy": "2023-02-10T12:53:58.635063Z",
     "iopub.execute_input": "2023-02-10T12:53:58.635495Z",
     "iopub.status.idle": "2023-02-10T12:53:58.642760Z",
     "shell.execute_reply.started": "2023-02-10T12:53:58.635449Z",
     "shell.execute_reply": "2023-02-10T12:53:58.641558Z"
    },
    "trusted": true,
    "pycharm": {
     "name": "#%%\n"
    }
   },
   "execution_count": 42,
   "outputs": [
    {
     "name": "stdout",
     "output_type": "stream",
     "text": [
      "[[[ 1  2]\n",
      "  [ 3  4]\n",
      "  [ 5  6]]\n",
      "\n",
      " [[ 7  8]\n",
      "  [ 9 10]\n",
      "  [11 12]]]\n"
     ]
    }
   ]
  },
  {
   "cell_type": "code",
   "source": [
    "arr = np.array([[1,2,3],[4,5,6]])\n",
    "newarray = arr.reshape(-1)\n",
    "print(newarray)"
   ],
   "metadata": {
    "execution": {
     "iopub.status.busy": "2023-02-10T12:54:59.545197Z",
     "iopub.execute_input": "2023-02-10T12:54:59.546056Z",
     "iopub.status.idle": "2023-02-10T12:54:59.552912Z",
     "shell.execute_reply.started": "2023-02-10T12:54:59.546020Z",
     "shell.execute_reply": "2023-02-10T12:54:59.551674Z"
    },
    "trusted": true,
    "pycharm": {
     "name": "#%%\n"
    }
   },
   "execution_count": 43,
   "outputs": [
    {
     "name": "stdout",
     "output_type": "stream",
     "text": [
      "[1 2 3 4 5 6]\n"
     ]
    }
   ]
  },
  {
   "cell_type": "markdown",
   "source": [
    "## Join"
   ],
   "metadata": {
    "pycharm": {
     "name": "#%% md\n"
    }
   }
  },
  {
   "cell_type": "code",
   "source": [
    "arr1 = np.array([1,2,3])\n",
    "arr2 = np.array([4,5,6])\n",
    "arr = np.concatenate((arr1, arr2))\n",
    "print(arr)\n",
    "\n",
    "arr1 = np.array([[1,2], [3,4]])\n",
    "arr2 = np.array([[5,6],[7,8]])\n",
    "arr = np.concatenate((arr1, arr2), axis = 1)\n",
    "print(arr)"
   ],
   "metadata": {
    "execution": {
     "iopub.status.busy": "2023-02-10T12:58:05.467046Z",
     "iopub.execute_input": "2023-02-10T12:58:05.468062Z",
     "iopub.status.idle": "2023-02-10T12:58:05.475322Z",
     "shell.execute_reply.started": "2023-02-10T12:58:05.468009Z",
     "shell.execute_reply": "2023-02-10T12:58:05.474331Z"
    },
    "trusted": true,
    "pycharm": {
     "name": "#%%\n"
    }
   },
   "execution_count": 44,
   "outputs": [
    {
     "name": "stdout",
     "output_type": "stream",
     "text": [
      "[1 2 3 4 5 6]\n",
      "[[1 2 5 6]\n",
      " [3 4 7 8]]\n"
     ]
    }
   ]
  },
  {
   "cell_type": "markdown",
   "source": [
    "## Split"
   ],
   "metadata": {
    "pycharm": {
     "name": "#%% md\n"
    }
   }
  },
  {
   "cell_type": "code",
   "source": [
    "arr = np.array([1,2,3,4,5,6])\n",
    "newarr = np.array_split(arr, 3)\n",
    "print(newarr)\n",
    "print(newarr[1])"
   ],
   "metadata": {
    "execution": {
     "iopub.status.busy": "2023-02-10T13:00:14.031053Z",
     "iopub.execute_input": "2023-02-10T13:00:14.031452Z",
     "iopub.status.idle": "2023-02-10T13:00:14.039153Z",
     "shell.execute_reply.started": "2023-02-10T13:00:14.031420Z",
     "shell.execute_reply": "2023-02-10T13:00:14.037852Z"
    },
    "trusted": true,
    "pycharm": {
     "name": "#%%\n"
    }
   },
   "execution_count": 45,
   "outputs": [
    {
     "name": "stdout",
     "output_type": "stream",
     "text": [
      "[array([1, 2]), array([3, 4]), array([5, 6])]\n",
      "[3 4]\n"
     ]
    }
   ]
  },
  {
   "cell_type": "code",
   "source": [
    "arr = np.array([[1,2], [3,4],[5,6],[7,8],[9,10], [11,12]])\n",
    "newarr = np.array_split(arr,3)\n",
    "print(newarr)"
   ],
   "metadata": {
    "execution": {
     "iopub.status.busy": "2023-02-10T13:01:26.858208Z",
     "iopub.execute_input": "2023-02-10T13:01:26.858652Z",
     "iopub.status.idle": "2023-02-10T13:01:26.866008Z",
     "shell.execute_reply.started": "2023-02-10T13:01:26.858607Z",
     "shell.execute_reply": "2023-02-10T13:01:26.864741Z"
    },
    "trusted": true,
    "pycharm": {
     "name": "#%%\n"
    }
   },
   "execution_count": 46,
   "outputs": [
    {
     "name": "stdout",
     "output_type": "stream",
     "text": [
      "[array([[1, 2],\n",
      "       [3, 4]]), array([[5, 6],\n",
      "       [7, 8]]), array([[ 9, 10],\n",
      "       [11, 12]])]\n"
     ]
    }
   ]
  },
  {
   "cell_type": "markdown",
   "source": [
    "## Subsetting"
   ],
   "metadata": {
    "pycharm": {
     "name": "#%% md\n"
    }
   }
  },
  {
   "cell_type": "code",
   "execution_count": 50,
   "outputs": [
    {
     "name": "stdout",
     "output_type": "stream",
     "text": [
      "[23.34925219 27.88755755 28.75558507 25.48723993 23.87257618 25.84368152]\n",
      "[False  True  True  True False  True]\n",
      "[27.88755755 28.75558507 25.48723993 25.84368152]\n"
     ]
    }
   ],
   "source": [
    "height = [1.87,  1.87, 1.82, 1.91, 1.90, 1.85]\n",
    "weight = [81.65, 97.52, 95.25, 92.98, 86.18, 88.45]\n",
    "\n",
    "np_height = np.array(height)\n",
    "np_weight = np.array(weight)\n",
    "bmi = np_weight / np_height ** 2\n",
    "\n",
    "print(bmi)\n",
    "\n",
    "print(bmi > 25)\n",
    "print(bmi[bmi > 25])"
   ],
   "metadata": {
    "collapsed": false,
    "pycharm": {
     "name": "#%%\n"
    }
   }
  },
  {
   "cell_type": "markdown",
   "source": [
    "# Bsp\n"
   ],
   "metadata": {
    "collapsed": false,
    "pycharm": {
     "name": "#%% md\n"
    }
   }
  },
  {
   "cell_type": "code",
   "execution_count": 51,
   "outputs": [
    {
     "name": "stdout",
     "output_type": "stream",
     "text": [
      "(2, 10)\n",
      "[[ 1  3  5  7  9]\n",
      " [11 13 15 17 19]]\n"
     ]
    }
   ],
   "source": [
    "arr = np.array([[1, 2, 3, 4, 5, 6, 7, 8, 9, 10],[11, 12, 13, 14, 15, 16, 17, 18, 19, 20]])\n",
    "print(arr.shape)\n",
    "print(arr[0:2, ::2])"
   ],
   "metadata": {
    "collapsed": false,
    "pycharm": {
     "name": "#%%\n"
    }
   }
  },
  {
   "cell_type": "code",
   "execution_count": null,
   "outputs": [],
   "source": [],
   "metadata": {
    "collapsed": false,
    "pycharm": {
     "name": "#%%\n"
    }
   }
  }
 ]
}